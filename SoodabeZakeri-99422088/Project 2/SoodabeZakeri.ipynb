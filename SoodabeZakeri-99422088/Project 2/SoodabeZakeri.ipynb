{
  "nbformat": 4,
  "nbformat_minor": 0,
  "metadata": {
    "colab": {
      "name": "Soodabe.ipynb",
      "provenance": [],
      "collapsed_sections": [],
      "toc_visible": true
    },
    "kernelspec": {
      "name": "python3",
      "display_name": "Python 3"
    },
    "language_info": {
      "name": "python"
    }
  },
  "cells": [
    {
      "cell_type": "code",
      "metadata": {
        "id": "1CYjjpT_hYYP"
      },
      "source": [
        "import pandas as pd\n",
        "import sklearn\n",
        "from sklearn.model_selection import train_test_split\n",
        "from sklearn.base import BaseEstimator, ClassifierMixin\n",
        "from sklearn.utils.validation import check_X_y, check_array, check_is_fitted\n",
        "from sklearn.metrics import f1_score\n",
        "from sklearn.metrics import precision_score\n",
        "from sklearn.metrics import recall_score\n",
        "from sklearn.naive_bayes import GaussianNB\n",
        "from sklearn.pipeline import make_pipeline\n",
        "from sklearn.preprocessing import StandardScaler\n",
        "from sklearn.svm import SVC\n",
        "from sklearn.model_selection import cross_val_score\n",
        "from sklearn.neighbors import KNeighborsClassifier\n",
        "from scipy import stats\n",
        "import numpy as np\n"
      ],
      "execution_count": 3,
      "outputs": []
    },
    {
      "cell_type": "markdown",
      "metadata": {
        "id": "eL2L4MtaVd4P"
      },
      "source": [
        "# 1-A : \n",
        "there are noisy records in the dataset and they are shown as circles in the box chart below. these noisy records are then deleted using Z-score as followed : \n",
        "> `df = df[(np.abs(stats.zscore(df)) < 3).all(axis=1)]`\n",
        "\n",
        "\n"
      ]
    },
    {
      "cell_type": "code",
      "metadata": {
        "id": "uTmFxXYPkk8t",
        "colab": {
          "base_uri": "https://localhost:8080/",
          "height": 265
        },
        "outputId": "73163ded-015b-400a-9bf0-460650dd9150"
      },
      "source": [
        "df = pd.read_csv(\"heart.csv\")\n",
        "boxplot = df.boxplot(column=['age', 'trestbps', 'chol','thalach','oldpeak'])\n",
        "df = df[(np.abs(stats.zscore(df)) < 3).all(axis=1)]"
      ],
      "execution_count": 4,
      "outputs": [
        {
          "output_type": "display_data",
          "data": {
            "image/png": "[encoded data removed]",
            "text/plain": [
              "<Figure size 432x288 with 1 Axes>"
            ]
          },
          "metadata": {
            "tags": [],
            "needs_background": "light"
          }
        }
      ]
    },
    {
      "cell_type": "markdown",
      "metadata": {
        "id": "21EmKzz1zI5X"
      },
      "source": [
        "# 1-B:\n",
        " data points are not equally distributed in the two target classes and therefore the dataset is not fully balanced. due to this problem, we will not be able to use predictive accuracy as an evaluation method because the model's prediction would be biased towards the class with more data points.\n",
        "\n",
        "\n",
        "there are 2 common solutions for this issue : \n",
        "\n",
        "\n",
        "1.   sampling methods : these methods include **oversampling** and **undersampling**.\n",
        "oversampling involves generating new data points for the minority class, and undersampling involves removing data points from the majority class\n",
        "2.   Cost-Sensitive Learning : there are 2 approaches for cost-sensitive learning, Upweighting and Down-weighting. Upweighting is analogous to over-sampling and works by increasing the weight of one of the classes keeping the weight of the other class at one. Down-weighting is analogous to under-sampling and works by decreasing the weight of one of the classes keeping the weight of the other class at one."
      ]
    },
    {
      "cell_type": "code",
      "metadata": {
        "colab": {
          "base_uri": "https://localhost:8080/"
        },
        "id": "2ecaZvxtW0op",
        "outputId": "21897deb-6afd-4916-da07-59c67315af72"
      },
      "source": [
        "print(\"target 0 : \",df[df.target == 0].shape[0])\n",
        "print(\"target 1 : \",df[df.target == 1].shape[0])"
      ],
      "execution_count": 5,
      "outputs": [
        {
          "output_type": "stream",
          "text": [
            "target 0 :  129\n",
            "target 1 :  158\n"
          ],
          "name": "stdout"
        }
      ]
    },
    {
      "cell_type": "markdown",
      "metadata": {
        "id": "uAWM6Nyl8pan"
      },
      "source": [
        "# 2 : \n",
        "first, the input and the output are separated, then the corresponding input and output for train and test are derived from the main dataset."
      ]
    },
    {
      "cell_type": "code",
      "metadata": {
        "id": "SljnXxLC7h_A"
      },
      "source": [
        "output = df['target']\n",
        "input = df.drop(['target'],axis=1)\n",
        "X_train, X_test, y_train, y_test = train_test_split(input, output, test_size=0.2, random_state=42)"
      ],
      "execution_count": 6,
      "outputs": []
    },
    {
      "cell_type": "markdown",
      "metadata": {
        "id": "xMvy-4WF9sPL"
      },
      "source": [
        "# 3 :\n",
        "In statistics and probability theory, the Bayes’ theorem (also known as the Bayes’ rule) is a mathematical formula used to determine the conditional probability of events. Essentially, the Bayes’ theorem describes the probability of an event based on prior knowledge of the conditions that might be relevant to the event.\n",
        "\n",
        "P(A|B) =  (P(A).P(B|A)) / P(B)\n",
        "\n",
        "*   P(A|B) – the probability of event A occurring, given event B has occurred\n",
        "*   P(B|A) – the probability of event B occurring, given event A has occurred\n",
        "*   P(A) – the probability of event A\n",
        "*   P(B) – the probability of event B\n",
        "\n",
        "## Gaussian Naive Bayes : \n",
        "In Gaussian Naive Bayes, continuous values associated with each feature are assumed to be distributed according to a Gaussian distribution.\n",
        "\n",
        "## Multinomial Naive Bayes : \n",
        "Feature vectors represent the frequencies with which certain events have been generated by a multinomial distribution.\n",
        "\n",
        "## Bernoulli Naive Bayes : \n",
        "In the multivariate Bernoulli event model, features are independent booleans (binary variables) describing inputs. Like the multinomial model, this model is popular for document classification tasks.\n"
      ]
    },
    {
      "cell_type": "markdown",
      "metadata": {
        "id": "MAciRtCwKQvF"
      },
      "source": [
        "# 4 : \n",
        "the gaussian naive bayes model is defined as a class :"
      ]
    },
    {
      "cell_type": "code",
      "metadata": {
        "colab": {
          "base_uri": "https://localhost:8080/"
        },
        "id": "vudvqM0LB0kY",
        "outputId": "4e08575c-ed29-4e32-d1eb-47a822412b96"
      },
      "source": [
        "X_train = X_train[['chol','trestbps','thalach']]\n",
        "X_test = X_test[['chol','trestbps','thalach']]\n",
        "class GaussianNaiveBayesClassifier(BaseEstimator, ClassifierMixin):\n",
        "    def fit(self, X, y):\n",
        "        X, y = check_X_y(X, y)\n",
        "        self.priors_ = np.bincount(y) / len(y)\n",
        "        self.n_classes_ = np.max(y) + 1\n",
        "        \n",
        "        self.means_ = np.array([X[np.where(y==i)].mean(axis=0) for i in range(self.n_classes_)])\n",
        "        self.stds_ = np.array([X[np.where(y==i)].std(axis=0) for i in range(self.n_classes_)])\n",
        "        \n",
        "        \n",
        "        return self\n",
        "    \n",
        "    def predict_proba(self, X):\n",
        "        check_is_fitted(self)\n",
        "        X = check_array(X)\n",
        "        \n",
        "        res = []\n",
        "        for i in range(len(X)):\n",
        "            probas = []\n",
        "            for j in range(self.n_classes_):\n",
        "                probas.append((1/np.sqrt(2*np.pi*self.stds_[j]**2)*np.exp(-0.5*((X[i]-self.means_[j])/self.stds_[j])**2)).prod()*self.priors_[j])\n",
        "            probas = np.array(probas)\n",
        "            res.append(probas / probas.sum())\n",
        "            \n",
        "        \n",
        "        return np.array(res)\n",
        "    \n",
        "    def predict(self, X):\n",
        "        check_is_fitted(self)\n",
        "        X = check_array(X)\n",
        "        \n",
        "        res = self.predict_proba(X)\n",
        "        \n",
        "        return res.argmax(axis=1)\n",
        "\n",
        "\n",
        "my_gauss = GaussianNaiveBayesClassifier()\n",
        "my_gauss.fit(X_train, y_train)\n"
      ],
      "execution_count": 7,
      "outputs": [
        {
          "output_type": "execute_result",
          "data": {
            "text/plain": [
              "GaussianNaiveBayesClassifier()"
            ]
          },
          "metadata": {
            "tags": []
          },
          "execution_count": 7
        }
      ]
    },
    {
      "cell_type": "markdown",
      "metadata": {
        "id": "Jc0_Zkk_KUhd"
      },
      "source": [
        "# 5 : \n",
        "using the model's prediction and the true labels, scores are calculated."
      ]
    },
    {
      "cell_type": "code",
      "metadata": {
        "colab": {
          "base_uri": "https://localhost:8080/"
        },
        "id": "7nhSVBbTKViN",
        "outputId": "057555ee-5614-4c11-e5f4-82844aff07f0"
      },
      "source": [
        "def argmax(p):\n",
        "  if p[0] > p[1] :\n",
        "    return 0\n",
        "  else:\n",
        "    return 1\n",
        "predicted = np.zeros(len(y_test))\n",
        "predicted = [argmax(p) for p in my_gauss.predict_proba(X_test)]\n",
        "\n",
        "print(\"F1-score : \",f1_score(y_test, predicted, average='macro'))\n",
        "print(\"Precision : \",precision_score(y_test, predicted, average='macro'))\n",
        "print(\"Recall : \",recall_score(y_test, predicted, average='macro'))"
      ],
      "execution_count": 8,
      "outputs": [
        {
          "output_type": "stream",
          "text": [
            "F1-score :  0.7070707070707072\n",
            "Precision :  0.7117117117117118\n",
            "Recall :  0.7043478260869566\n"
          ],
          "name": "stdout"
        }
      ]
    },
    {
      "cell_type": "markdown",
      "metadata": {
        "id": "LYK-i1hHLxml"
      },
      "source": [
        "# 6 \n"
      ]
    },
    {
      "cell_type": "code",
      "metadata": {
        "colab": {
          "base_uri": "https://localhost:8080/"
        },
        "id": "Q7oFpHDWLx9X",
        "outputId": "02cd333e-14fa-479e-a6e7-1d15d174fa91"
      },
      "source": [
        "clf = GaussianNB()\n",
        "clf.fit(X_train,y_train)\n",
        "predicted = clf.predict(X_test)\n",
        "\n",
        "print(\"F1-score : \",f1_score(y_test, predicted, average='macro'))\n",
        "print(\"Precision : \",precision_score(y_test, predicted, average='macro'))\n",
        "print(\"Recall : \",recall_score(y_test, predicted, average='macro'))"
      ],
      "execution_count": 9,
      "outputs": [
        {
          "output_type": "stream",
          "text": [
            "F1-score :  0.7070707070707072\n",
            "Precision :  0.7117117117117118\n",
            "Recall :  0.7043478260869566\n"
          ],
          "name": "stdout"
        }
      ]
    },
    {
      "cell_type": "markdown",
      "metadata": {
        "id": "fu5Z856aNITL"
      },
      "source": [
        "# 7\n",
        "the results of the custom model and the gaussianNB were identical, therefore the scores are also identical"
      ]
    },
    {
      "cell_type": "markdown",
      "metadata": {
        "id": "bB6MOimSNSw7"
      },
      "source": [
        "# 8 \n"
      ]
    },
    {
      "cell_type": "code",
      "metadata": {
        "colab": {
          "base_uri": "https://localhost:8080/"
        },
        "id": "CliphU4hNR_l",
        "outputId": "30f1527e-9106-4d8a-aca8-b67ad3e4e286"
      },
      "source": [
        "clf = make_pipeline(StandardScaler(), SVC(gamma='auto'))\n",
        "clf.fit(X_train,y_train)\n",
        "predicted = clf.predict(X_test)\n",
        "\n",
        "print(\"F1-score : \",f1_score(y_test, predicted, average='macro'))\n",
        "print(\"Precision : \",precision_score(y_test, predicted, average='macro'))\n",
        "print(\"Recall : \",recall_score(y_test, predicted, average='macro'))"
      ],
      "execution_count": 10,
      "outputs": [
        {
          "output_type": "stream",
          "text": [
            "F1-score :  0.6996649406031068\n",
            "Precision :  0.6983173076923077\n",
            "Recall :  0.7049689440993789\n"
          ],
          "name": "stdout"
        }
      ]
    },
    {
      "cell_type": "markdown",
      "metadata": {
        "id": "dw8lOI6rOQw9"
      },
      "source": [
        "# 9\n",
        "the model's scores were better while using the RBF kernel.\n",
        "using different kernels in SVM models, allow us to add non-linearity to the model's prediction. there is no exact rule on how to choose the right kernel that would apply to all the datasets."
      ]
    },
    {
      "cell_type": "code",
      "metadata": {
        "colab": {
          "base_uri": "https://localhost:8080/"
        },
        "id": "tTbKvcf5OQ_i",
        "outputId": "16f14b6e-a04a-4890-c9d2-d53c1e9539f9"
      },
      "source": [
        "clf_rbf = make_pipeline(StandardScaler(), SVC(gamma='auto',kernel='rbf'))\n",
        "clf_rbf.fit(X_train,y_train)\n",
        "predicted_rbf = clf_rbf.predict(X_test)\n",
        "\n",
        "print(\"RBF kernel : \")\n",
        "print(\"F1-score : \",f1_score(y_test, predicted_rbf, average='macro'))\n",
        "print(\"Precision : \",precision_score(y_test, predicted_rbf, average='macro'))\n",
        "print(\"Recall : \",recall_score(y_test, predicted_rbf, average='macro'))\n",
        "\n",
        "\n",
        "clf_sigmoid = make_pipeline(StandardScaler(), SVC(gamma='auto',kernel='sigmoid'))\n",
        "clf_sigmoid.fit(X_train,y_train)\n",
        "predicted_sigmoid = clf_sigmoid.predict(X_test)\n",
        "\n",
        "print(\"\\nSigmoid kernel : \")\n",
        "print(\"F1-score : \",f1_score(y_test, predicted_sigmoid, average='macro'))\n",
        "print(\"Precision : \",precision_score(y_test, predicted_sigmoid, average='macro'))\n",
        "print(\"Recall : \",recall_score(y_test, predicted_sigmoid, average='macro'))"
      ],
      "execution_count": 11,
      "outputs": [
        {
          "output_type": "stream",
          "text": [
            "RBF kernel : \n",
            "F1-score :  0.6996649406031068\n",
            "Precision :  0.6983173076923077\n",
            "Recall :  0.7049689440993789\n",
            "\n",
            "Sigmoid kernel : \n",
            "F1-score :  0.6289978678038379\n",
            "Precision :  0.6286057692307692\n",
            "Recall :  0.632919254658385\n"
          ],
          "name": "stdout"
        }
      ]
    },
    {
      "cell_type": "markdown",
      "metadata": {
        "id": "9-3eALNnQIHN"
      },
      "source": [
        "# 10\n"
      ]
    },
    {
      "cell_type": "code",
      "metadata": {
        "colab": {
          "base_uri": "https://localhost:8080/"
        },
        "id": "OW9cykaBQJLm",
        "outputId": "50462bab-0a69-4b01-d1c5-a7ee9e1dc8e0"
      },
      "source": [
        "output = df['target']\n",
        "input = df.drop(['target'],axis=1)\n",
        "X_train, X_test, y_train, y_test = train_test_split(input, output, test_size=0.2, random_state=42)\n",
        "clf = make_pipeline(StandardScaler(), SVC(gamma='auto'))\n",
        "clf.fit(X_train,y_train)\n",
        "predicted = clf.predict(X_test)\n",
        "\n",
        "print(\"F1-score : \",f1_score(y_test, predicted, average='macro'))\n",
        "print(\"Precision : \",precision_score(y_test, predicted, average='macro'))\n",
        "print(\"Recall : \",recall_score(y_test, predicted, average='macro'))"
      ],
      "execution_count": 12,
      "outputs": [
        {
          "output_type": "stream",
          "text": [
            "F1-score :  0.7867647058823529\n",
            "Precision :  0.7842424242424242\n",
            "Recall :  0.791304347826087\n"
          ],
          "name": "stdout"
        }
      ]
    },
    {
      "cell_type": "markdown",
      "metadata": {
        "id": "lg_VhDyhQ1VF"
      },
      "source": [
        "# 11\n",
        "we used all datapoints to assess cross validation scores."
      ]
    },
    {
      "cell_type": "code",
      "metadata": {
        "colab": {
          "base_uri": "https://localhost:8080/"
        },
        "id": "3muyeIjSQ1ow",
        "outputId": "0ae37128-e6d1-4da2-ef55-db3e076bfb52"
      },
      "source": [
        "clf = make_pipeline(StandardScaler(), SVC(gamma='auto'))\n",
        "clf.fit(X_train,y_train)\n",
        "scores = cross_val_score(clf, input, output, cv=5)\n",
        "print(scores)\n"
      ],
      "execution_count": 13,
      "outputs": [
        {
          "output_type": "stream",
          "text": [
            "[0.81034483 0.89655172 0.80701754 0.84210526 0.73684211]\n"
          ],
          "name": "stdout"
        }
      ]
    },
    {
      "cell_type": "markdown",
      "metadata": {
        "id": "47X1YHwhSbRu"
      },
      "source": [
        "# 12"
      ]
    },
    {
      "cell_type": "code",
      "metadata": {
        "colab": {
          "base_uri": "https://localhost:8080/"
        },
        "id": "QAdnyo8dSbbt",
        "outputId": "656d9d28-d04c-405a-e55a-c893bef8856d"
      },
      "source": [
        "neigh = KNeighborsClassifier(n_neighbors=3)\n",
        "neigh.fit(X_train, y_train)\n",
        "predicted = neigh.predict(X_test)\n",
        "\n",
        "print(\"F1-score : \",f1_score(y_test, predicted, average='macro'))\n",
        "print(\"Precision : \",precision_score(y_test, predicted, average='macro'))\n",
        "print(\"Recall : \",recall_score(y_test, predicted, average='macro'))"
      ],
      "execution_count": 14,
      "outputs": [
        {
          "output_type": "stream",
          "text": [
            "F1-score :  0.6535244922341696\n",
            "Precision :  0.6630824372759856\n",
            "Recall :  0.6695652173913043\n"
          ],
          "name": "stdout"
        }
      ]
    },
    {
      "cell_type": "markdown",
      "metadata": {
        "id": "SGVRGt9ySwAi"
      },
      "source": [
        "# 13\n"
      ]
    },
    {
      "cell_type": "markdown",
      "metadata": {
        "id": "_kpRBRzHS1zx"
      },
      "source": [
        "# 14\n",
        "the scores decreased slightly when we used only 3 features."
      ]
    },
    {
      "cell_type": "code",
      "metadata": {
        "colab": {
          "base_uri": "https://localhost:8080/"
        },
        "id": "nAHu077ZS2UP",
        "outputId": "9f7e5ba3-8728-4e8a-8e95-609e4b9e31a7"
      },
      "source": [
        "X_train = X_train[['chol','trestbps','thalach']]\n",
        "X_test = X_test[['chol','trestbps','thalach']]\n",
        "\n",
        "neigh = KNeighborsClassifier(n_neighbors=3)\n",
        "neigh.fit(X_train, y_train)\n",
        "predicted = neigh.predict(X_test)\n",
        "\n",
        "print(\"F1-score : \",f1_score(y_test, predicted, average='macro'))\n",
        "print(\"Precision : \",precision_score(y_test, predicted, average='macro'))\n",
        "print(\"Recall : \",recall_score(y_test, predicted, average='macro'))\n"
      ],
      "execution_count": 15,
      "outputs": [
        {
          "output_type": "stream",
          "text": [
            "F1-score :  0.6551724137931034\n",
            "Precision :  0.684472049689441\n",
            "Recall :  0.684472049689441\n"
          ],
          "name": "stdout"
        }
      ]
    },
    {
      "cell_type": "markdown",
      "metadata": {
        "id": "sZ2-jIe-fRS6"
      },
      "source": [
        "# 15\n",
        "Difference between parametric and nonparametric test is that the parametric test relies on statistical distributions in data whereas nonparametric do not depend on any distribution. Non-parametric does not make any assumptions and measures the central tendency with the median value. \n",
        "Nonparametric are valid in a broader range of situations (fewer conditions of validity).\n",
        "A parametric test is more able to lead to a rejection of H0. Most of the time, the p-value associated to a parametric test will be lower than the p-value associated to a nonparametric equivalent that is run on the same data.\n"
      ]
    },
    {
      "cell_type": "markdown",
      "metadata": {
        "id": "Z77RsP_xfVZ3"
      },
      "source": [
        "# 16\n",
        "Matthew’s correlation coefficient is a tool for model evaluation. It measures the differences between actual values and predicted values and is equivalent to the chi-square statistic  for a 2 x 2 contingency table .\n",
        "Matthew’s correlation coefficient is the best metric for binary classification problems.\n",
        "  "
      ]
    }
  ]
}